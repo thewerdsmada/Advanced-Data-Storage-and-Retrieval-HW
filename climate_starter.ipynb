{
 "cells": [
  {
   "cell_type": "code",
   "execution_count": 6,
   "metadata": {},
   "outputs": [],
   "source": [
    "#So i watch this show, and this week, it was called \"Blame of Thrones\"\n",
    "#Because i am blaming it (and easter) for why I am going to do such a half-assed job on this assignment\n",
    "\n",
    "#so without further adieu here goes nothing...  (I know nothing about this topic......)\n",
    "\n",
    "#Start by importing the dothraki across the narrow sea\n",
    "\n",
    "%matplotlib inline\n",
    "from matplotlib import style\n",
    "style.use('fivethirtyeight')\n",
    "import matplotlib.pyplot as plt\n",
    "import numpy as np\n",
    "import pandas as pd\n",
    "import datetime as dt"
   ]
  },
  {
   "cell_type": "markdown",
   "metadata": {},
   "source": [
    "# Reflect Tables into SQLAlchemy ORM aka Create Wildfire"
   ]
  },
  {
   "cell_type": "code",
   "execution_count": 7,
   "metadata": {},
   "outputs": [],
   "source": [
    "# create the wildfire needed for the battle of blackwater\n",
    "import sqlalchemy\n",
    "from sqlalchemy.ext.automap import automap_base\n",
    "from sqlalchemy.orm import Session\n",
    "from sqlalchemy import create_engine, func"
   ]
  },
  {
   "cell_type": "code",
   "execution_count": 8,
   "metadata": {},
   "outputs": [],
   "source": [
    "engine = create_engine(\"sqlite:///Resources/hawaii.sqlite\")"
   ]
  },
  {
   "cell_type": "code",
   "execution_count": 9,
   "metadata": {},
   "outputs": [],
   "source": [
    "# warg into the database but don't go full hodor\n",
    "Base = automap_base()\n",
    "# reflect the tables\n",
    "Base.prepare(engine, reflect=True)"
   ]
  },
  {
   "cell_type": "code",
   "execution_count": 10,
   "metadata": {},
   "outputs": [
    {
     "data": {
      "text/plain": [
       "['measurement', 'station']"
      ]
     },
     "execution_count": 10,
     "metadata": {},
     "output_type": "execute_result"
    }
   ],
   "source": [
    "# hodor Hodor hodor\n",
    "Base.classes.keys()"
   ]
  },
  {
   "cell_type": "code",
   "execution_count": 11,
   "metadata": {},
   "outputs": [],
   "source": [
    "# save what the 3 eyed raven saw\n",
    "Measurement = Base.classes.measurement\n",
    "Station = Base.classes.station"
   ]
  },
  {
   "cell_type": "code",
   "execution_count": 12,
   "metadata": {},
   "outputs": [],
   "source": [
    "# Bran eye rolly warg thing\n",
    "session = Session(engine)"
   ]
  },
  {
   "cell_type": "markdown",
   "metadata": {},
   "source": [
    "# Exploratory Climate Analysis"
   ]
  },
  {
   "cell_type": "code",
   "execution_count": 13,
   "metadata": {},
   "outputs": [
    {
     "name": "stdout",
     "output_type": "stream",
     "text": [
      "2017-08-23\n"
     ]
    }
   ],
   "source": [
    "#I've seen it....  see all the data and then tell the dothraki pandas horde to go torture it until it confesses\n",
    "conn = engine.connect()\n",
    "measurement_data = pd.read_sql(\"SELECT * FROM measurement\", conn)\n",
    "station_data = pd.read_sql(\"SELECT * FROM station\", conn)\n",
    "measurement_data.head()\n",
    "measurement_data.shape\n",
    "station_data.head()\n",
    "station_data.shape\n",
    "\n",
    "#What time was the last episode of this phenomenal show aired?  8pm.  Last night.  That's what time.\n",
    "measurement_data.head()\n",
    "last_date = measurement_data.date.max()\n",
    "print(last_date)"
   ]
  },
  {
   "cell_type": "code",
   "execution_count": 15,
   "metadata": {},
   "outputs": [],
   "source": [
    "#Go full khal drogo on this data\n",
    "\n",
    "measurement_data['date'] = pd.to_datetime(measurement_data['date']) \n",
    "mask = (measurement_data['date'] >= '2016-08-23') \n",
    "measurements_2017 = measurement_data.loc[mask]\n",
    "measurements_2017.head(50)\n",
    "prcp_2017_df = measurements_2017[['date', 'prcp']].copy()\n",
    "prcp_2017_df = prcp_2017_df.reset_index(drop=True)\n",
    "prcp_2017_df.set_index('date', inplace=True)\n",
    "prcp_2017_df.head()\n",
    "sorted_prcp_last_year = prcp_2017_df.sort_values(by='date')\n",
    "sorted_prcp_last_year = sorted_prcp_last_year.dropna()\n"
   ]
  },
  {
   "cell_type": "code",
   "execution_count": 18,
   "metadata": {},
   "outputs": [
    {
     "data": {
      "image/png": "[encoded data removed]",
      "text/plain": [
       "<Figure size 432x288 with 1 Axes>"
      ]
     },
     "metadata": {},
     "output_type": "display_data"
    }
   ],
   "source": [
    "#dragons are just a myth until you've seen one, so show me the dragons.....\n",
    "from matplotlib.dates import DateFormatter\n",
    "from pandas.plotting import register_matplotlib_converters\n",
    "register_matplotlib_converters()\n",
    "\n",
    "\n",
    "fig, ax = plt.subplots()\n",
    "ax.plot(sorted_prcp_last_year.index,sorted_prcp_last_year.prcp)\n",
    "\n",
    "myFmt = DateFormatter(\"%Y-%m-%d\")\n",
    "ax.xaxis.set_major_formatter(myFmt)\n",
    "\n",
    "\n",
    "\n",
    "## Rotate date labels automatically\n",
    "fig.autofmt_xdate()\n",
    "\n",
    "\n",
    "plt.xlabel('Date')\n",
    "plt.ylabel('Precipitation')\n",
    "plt.title('Last year Precipitation Data')\n",
    "plt.show()\n",
    "\n",
    "\n"
   ]
  },
  {
   "cell_type": "code",
   "execution_count": 19,
   "metadata": {},
   "outputs": [
    {
     "data": {
      "text/html": [
       "<div>\n",
       "<style scoped>\n",
       "    .dataframe tbody tr th:only-of-type {\n",
       "        vertical-align: middle;\n",
       "    }\n",
       "\n",
       "    .dataframe tbody tr th {\n",
       "        vertical-align: top;\n",
       "    }\n",
       "\n",
       "    .dataframe thead th {\n",
       "        text-align: right;\n",
       "    }\n",
       "</style>\n",
       "<table border=\"1\" class=\"dataframe\">\n",
       "  <thead>\n",
       "    <tr style=\"text-align: right;\">\n",
       "      <th></th>\n",
       "      <th>prcp</th>\n",
       "    </tr>\n",
       "  </thead>\n",
       "  <tbody>\n",
       "    <tr>\n",
       "      <th>count</th>\n",
       "      <td>2021.000000</td>\n",
       "    </tr>\n",
       "    <tr>\n",
       "      <th>mean</th>\n",
       "      <td>0.177279</td>\n",
       "    </tr>\n",
       "    <tr>\n",
       "      <th>std</th>\n",
       "      <td>0.461190</td>\n",
       "    </tr>\n",
       "    <tr>\n",
       "      <th>min</th>\n",
       "      <td>0.000000</td>\n",
       "    </tr>\n",
       "    <tr>\n",
       "      <th>25%</th>\n",
       "      <td>0.000000</td>\n",
       "    </tr>\n",
       "    <tr>\n",
       "      <th>50%</th>\n",
       "      <td>0.020000</td>\n",
       "    </tr>\n",
       "    <tr>\n",
       "      <th>75%</th>\n",
       "      <td>0.130000</td>\n",
       "    </tr>\n",
       "    <tr>\n",
       "      <th>max</th>\n",
       "      <td>6.700000</td>\n",
       "    </tr>\n",
       "  </tbody>\n",
       "</table>\n",
       "</div>"
      ],
      "text/plain": [
       "              prcp\n",
       "count  2021.000000\n",
       "mean      0.177279\n",
       "std       0.461190\n",
       "min       0.000000\n",
       "25%       0.000000\n",
       "50%       0.020000\n",
       "75%       0.130000\n",
       "max       6.700000"
      ]
     },
     "execution_count": 19,
     "metadata": {},
     "output_type": "execute_result"
    }
   ],
   "source": [
    "#the hand of the queen knows the stuff\n",
    "\n",
    "summary_df = sorted_prcp_last_year.describe()\n",
    "# i tried doing this manually....which was stupid   .agg(['count', 'mean', 'std', 'min', sorted_prcp_last_year.quantile(.95), 'max'])\n",
    "summary_df"
   ]
  },
  {
   "cell_type": "code",
   "execution_count": 20,
   "metadata": {},
   "outputs": [
    {
     "name": "stdout",
     "output_type": "stream",
     "text": [
      "9\n",
      "9\n"
     ]
    }
   ],
   "source": [
    "# Design a query to show how many stations are available in this dataset?\n",
    "#how many kingdoms in westeros?\n",
    "\n",
    "number_of_stations = len(station_data.id)\n",
    "print(number_of_stations)\n",
    "\n",
    "#I should do this by a query so i can do the API stuff\n",
    "station_qry = session.query(Station).count()\n",
    "\n",
    "print(station_qry)"
   ]
  },
  {
   "cell_type": "code",
   "execution_count": 21,
   "metadata": {},
   "outputs": [
    {
     "data": {
      "text/html": [
       "<div>\n",
       "<style scoped>\n",
       "    .dataframe tbody tr th:only-of-type {\n",
       "        vertical-align: middle;\n",
       "    }\n",
       "\n",
       "    .dataframe tbody tr th {\n",
       "        vertical-align: top;\n",
       "    }\n",
       "\n",
       "    .dataframe thead th {\n",
       "        text-align: right;\n",
       "    }\n",
       "</style>\n",
       "<table border=\"1\" class=\"dataframe\">\n",
       "  <thead>\n",
       "    <tr style=\"text-align: right;\">\n",
       "      <th></th>\n",
       "      <th>Number Of Measurements</th>\n",
       "    </tr>\n",
       "    <tr>\n",
       "      <th>station</th>\n",
       "      <th></th>\n",
       "    </tr>\n",
       "  </thead>\n",
       "  <tbody>\n",
       "    <tr>\n",
       "      <th>USC00519281</th>\n",
       "      <td>2772</td>\n",
       "    </tr>\n",
       "    <tr>\n",
       "      <th>USC00519397</th>\n",
       "      <td>2724</td>\n",
       "    </tr>\n",
       "    <tr>\n",
       "      <th>USC00513117</th>\n",
       "      <td>2709</td>\n",
       "    </tr>\n",
       "    <tr>\n",
       "      <th>USC00519523</th>\n",
       "      <td>2669</td>\n",
       "    </tr>\n",
       "    <tr>\n",
       "      <th>USC00516128</th>\n",
       "      <td>2612</td>\n",
       "    </tr>\n",
       "    <tr>\n",
       "      <th>USC00514830</th>\n",
       "      <td>2202</td>\n",
       "    </tr>\n",
       "    <tr>\n",
       "      <th>USC00511918</th>\n",
       "      <td>1979</td>\n",
       "    </tr>\n",
       "    <tr>\n",
       "      <th>USC00517948</th>\n",
       "      <td>1372</td>\n",
       "    </tr>\n",
       "    <tr>\n",
       "      <th>USC00518838</th>\n",
       "      <td>511</td>\n",
       "    </tr>\n",
       "  </tbody>\n",
       "</table>\n",
       "</div>"
      ],
      "text/plain": [
       "             Number Of Measurements\n",
       "station                            \n",
       "USC00519281                    2772\n",
       "USC00519397                    2724\n",
       "USC00513117                    2709\n",
       "USC00519523                    2669\n",
       "USC00516128                    2612\n",
       "USC00514830                    2202\n",
       "USC00511918                    1979\n",
       "USC00517948                    1372\n",
       "USC00518838                     511"
      ]
     },
     "execution_count": 21,
     "metadata": {},
     "output_type": "execute_result"
    }
   ],
   "source": [
    "#check to see if winter is indeed coming?  Or if we're sweet summer children\n",
    "\n",
    "active_stations =  measurement_data.set_index([\"station\", \"prcp\", \"date\", \"tobs\"]).count(level=\"station\")\n",
    "#measurement_data.groupby([\"station\"]).counts())\n",
    "#.sort_values(\"Units\", ascending=False)\n",
    "active_stations = active_stations.rename(columns={'id':'Number Of Measurements'})\n",
    "active_stations.sort_values(\"Number Of Measurements\", axis = 0, ascending = False, \n",
    "                 inplace = True, na_position ='last') \n",
    "active_stations"
   ]
  },
  {
   "cell_type": "code",
   "execution_count": 133,
   "metadata": {},
   "outputs": [
    {
     "name": "stdout",
     "output_type": "stream",
     "text": [
      "54.0 85.0 71.66378066378067\n"
     ]
    }
   ],
   "source": [
    "# Find out some temp data about the last winter\n",
    "\n",
    "#Using the station id from the previous query, calculate the lowest temperature recorded, \n",
    "# highest temperature recorded, and average temperature most active station?\n",
    "from sqlalchemy.sql import func\n",
    "qry = session.query(func.max(Measurement.tobs).label(\"max_temp\"), \n",
    "                func.min(Measurement.tobs).label(\"min_temp\"), func.avg(Measurement.tobs).label(\"avg_temp\")).filter_by(station='USC00519281')\n",
    "res = qry.one()\n",
    "max = res.max_temp\n",
    "min = res.min_temp\n",
    "avg = res.avg_temp\n",
    "print(min, max, avg)"
   ]
  },
  {
   "cell_type": "code",
   "execution_count": 149,
   "metadata": {},
   "outputs": [
    {
     "data": {
      "image/png": "[encoded data removed]",
      "text/plain": [
       "<Figure size 432x288 with 1 Axes>"
      ]
     },
     "metadata": {},
     "output_type": "display_data"
    }
   ],
   "source": [
    "# Find some temp data at king's landing....\n",
    "\n",
    "# Choose the station with the highest number of temperature observations.\n",
    "# Query the last 12 months of temperature observation data for this station and plot the results as a histogram\n",
    "mask2 = (measurements_2017['station'] == 'USC00519281') \n",
    "station_data_2017 = measurements_2017.loc[mask2]\n",
    "num_bins = 12\n",
    "n, bins, patches = plt.hist(station_data_2017['tobs'], num_bins, facecolor='blue', alpha=0.5)\n",
    "plt.xlabel('Temp')\n",
    "plt.ylabel('Frequency')\n",
    "plt.title('Last year Observed Temperature Data At Most Active Station')\n",
    "\n",
    "plt.show()\n"
   ]
  },
  {
   "cell_type": "code",
   "execution_count": 150,
   "metadata": {},
   "outputs": [],
   "source": [
    "# Make a function - aka turn the mountain into a zombie\n",
    "# This function called `calc_temps` will accept start date and end date in the format '%Y-%m-%d' \n",
    "# and return the minimum, average, and maximum temperatures for that range of dates\n",
    "def calc_temps(start_date, end_date):\n",
    "    \"\"\"TMIN, TAVG, and TMAX for a list of dates.\n",
    "    \n",
    "    Args:\n",
    "        start_date (string): A date string in the format %Y-%m-%d\n",
    "        end_date (string): A date string in the format %Y-%m-%d\n",
    "        \n",
    "    Returns:\n",
    "        TMIN, TAVE, and TMAX\n",
    "    \"\"\"\n",
    "    \n",
    "    return session.query(func.min(Measurement.tobs), func.avg(Measurement.tobs), func.max(Measurement.tobs)).\\\n",
    "        filter(Measurement.date >= start_date).filter(Measurement.date <= end_date).all()\n",
    "\n",
    "\n"
   ]
  },
  {
   "cell_type": "code",
   "execution_count": 164,
   "metadata": {},
   "outputs": [
    {
     "name": "stdout",
     "output_type": "stream",
     "text": [
      "[(62.0, 70.03389830508475, 78.0)]\n",
      "<class 'list'>\n",
      "62.0\n"
     ]
    }
   ],
   "source": [
    "# Have the zombie mountain attack the data\n",
    "# Use your previous function `calc_temps` to calculate the tmin, tavg, and tmax \n",
    "# for your trip using the previous year's data for those same dates.\n",
    "trip_temps = calc_temps('2016-03-03', '2016-03-11')\n",
    "print(trip_temps)\n",
    "print(type(trip_temps))\n",
    "trip_temps_list = trip_temps[0]\n",
    "print(trip_temps_list[0])"
   ]
  },
  {
   "cell_type": "code",
   "execution_count": 170,
   "metadata": {},
   "outputs": [
    {
     "data": {
      "image/png": "[encoded data removed]",
      "text/plain": [
       "<Figure size 432x288 with 1 Axes>"
      ]
     },
     "metadata": {},
     "output_type": "display_data"
    }
   ],
   "source": [
    "# The night king made an ice dragon.  Show the ice dragon....\n",
    "# Use \"Trip Avg Temp\" as your Title\n",
    "# Use the average temperature for the y value\n",
    "# Use the peak-to-peak (tmax-tmin) value as the y error bar (yerr)\n",
    "#trip_temps[2].value-trip_temps[0].value\n",
    "width = 1\n",
    "fig, ax = plt.subplots()\n",
    "rects1 = ax.bar(1, trip_temps_list[1], width, yerr=trip_temps_list[2]-trip_temps_list[0],\n",
    "                color='SkyBlue', label='Trip Average Temp')\n",
    "\n",
    "\n",
    "# Add some text for labels, title and custom x-axis tick labels, etc.\n",
    "ax.set_ylabel('Temp')\n",
    "ax.set_title('Average Temperature 03-03 to 03-11 Based On Prior Year')\n",
    "ax.set_xticklabels([])\n",
    "\n",
    "ax.legend()\n",
    "\n",
    "\n",
    "\n",
    "plt.show()"
   ]
  },
  {
   "cell_type": "code",
   "execution_count": null,
   "metadata": {},
   "outputs": [],
   "source": [
    "#setup the flask stuff for the 2nd API part of this assignment\n",
    "#I also did an app.py file in case that works better\n",
    "#a girl has no name, just api calls\n",
    "#go to braavos, learn all the death has many faces stuff\n",
    "\n",
    "#also, i know how to do this better now, since i got some help from a classmate\n",
    "#but i feel like that would be cheating, so im going to turn in my crappy version\n",
    "#i promised one life to the many faced god, so i will follow through with my promise\n",
    "#even though i have a much better and functioning solution now\n",
    "#but hey, im stubborn and honest, so that's gotta be good for something\n",
    "#call me ned stark and kill this assignment off mid-season 1\n",
    "#the littlefinger stolen version is in the app.py file....\n",
    "\n",
    "\n",
    "from flask import Flask, jsonify\n",
    "\n",
    "\n",
    "#################################################\n",
    "# Flask Setup\n",
    "#################################################\n",
    "app = Flask(__name__)\n",
    "\n",
    "\n",
    "#################################################\n",
    "# Flask Routes\n",
    "#################################################\n",
    "\n",
    "@app.route(\"/api/v1.0/hawaii-data\")\n",
    "def hawaii-data():\n",
    "    \"\"\"Return the data data as json\"\"\"\n",
    "\n",
    "    return jsonify(justice_league_members)\n",
    "\n",
    "\n",
    "@app.route(\"/\")\n",
    "def welcome():\n",
    "    return (\n",
    "        f\"Welcome to Drew's Cool Hawaii Weather API!<br/>\"\n",
    "        f\"Available Routes:<br/>\"\n",
    "        f\"/api/v1.0/precipitation<br/>\"\n",
    "        f\"/api/v1.0/stations<br/>\"\n",
    "        f\"/api/v1.0/tobs<br/>\"\n",
    "        f\"/api/v1.0/<start>/<end><br/>\"\n",
    "    )\n",
    "\n",
    "\n",
    "@app.route(\"/api/v1.0/precipitation\")\n",
    "def precipitation():\n",
    "    return jsonify(sorted_prcp_last_year)\n",
    "\n",
    "    \n",
    "\n",
    "@app.route(\"/api/v1.0/stations\")\n",
    "def stations():\n",
    "    return jsonify(active_stations)\n",
    "\n",
    "\n",
    "@app.route(\"/api/v1.0/tobs\")\n",
    "def tobs():\n",
    "    return jsonify(station_data_2017['tobs'])\n",
    "\n",
    "\n",
    "@app.route(\"/api/v1.0/<start>/<end>\")\n",
    "def temp_by_date_range(start,end):\n",
    "    \n",
    "\n",
    "\n",
    "    return jsonify(calc_temps(start, end))\n",
    "\n",
    "\n",
    "if __name__ == \"__main__\":\n",
    "    app.run(debug=True)\n"
   ]
  }
 ],
 "metadata": {
  "kernel_info": {
   "name": "python3"
  },
  "kernelspec": {
   "display_name": "Python 3",
   "language": "python",
   "name": "python3"
  },
  "language_info": {
   "codemirror_mode": {
    "name": "ipython",
    "version": 3
   },
   "file_extension": ".py",
   "mimetype": "text/x-python",
   "name": "python",
   "nbconvert_exporter": "python",
   "pygments_lexer": "ipython3",
   "version": "3.6.8"
  },
  "nteract": {
   "version": "0.12.3"
  },
  "varInspector": {
   "cols": {
    "lenName": 16,
    "lenType": 16,
    "lenVar": 40
   },
   "kernels_config": {
    "python": {
     "delete_cmd_postfix": "",
     "delete_cmd_prefix": "del ",
     "library": "var_list.py",
     "varRefreshCmd": "print(var_dic_list())"
    },
    "r": {
     "delete_cmd_postfix": ") ",
     "delete_cmd_prefix": "rm(",
     "library": "var_list.r",
     "varRefreshCmd": "cat(var_dic_list()) "
    }
   },
   "types_to_exclude": [
    "module",
    "function",
    "builtin_function_or_method",
    "instance",
    "_Feature"
   ],
   "window_display": false
  }
 },
 "nbformat": 4,
 "nbformat_minor": 2
}
